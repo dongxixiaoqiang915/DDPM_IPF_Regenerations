{
 "cells": [
  {
   "cell_type": "code",
   "execution_count": 4,
   "metadata": {},
   "outputs": [],
   "source": [
    "import os\n",
    "import torch\n",
    "import torch.nn as nn\n",
    "from matplotlib import pyplot as plt\n",
    "from tqdm import tqdm\n",
    "from torch import optim\n",
    "from Model.utils import *\n",
    "from Model.modules import UNet, UNet_conditional, EMA\n",
    "import numpy as np\n",
    "import logging\n",
    "import copy\n"
   ]
  },
  {
   "cell_type": "markdown",
   "metadata": {},
   "source": [
    "### Conditional cases of sampling of 8-class IPF regenerations"
   ]
  },
  {
   "cell_type": "code",
   "execution_count": null,
   "metadata": {},
   "outputs": [],
   "source": [
    "from Model.ddpm_conditional import Diffusion\n",
    "import os\n",
    "import numpy as np\n",
    "from PIL import Image\n",
    "\n",
    "device = \"cuda\"\n",
    "model = UNet_conditional(num_classes=8).to(device)\n",
    "diffusion = Diffusion(img_size=64, device=device)\n",
    "y = torch.Tensor([1] * 16).long().to(device) # Specify IPF class here [0-7]\n",
    "\n",
    "# Define the checkpoint folders\n",
    "checkpoint_folder = r\"Pre-trained\"\n",
    "\n",
    "    # Load the checkpoint\n",
    "checkpoint_path = os.path.join(checkpoint_folder, \"ema_ckpt.pt\")\n",
    "ckpt = torch.load(checkpoint_path)\n",
    "model.load_state_dict(ckpt)\n",
    "\n",
    "# Generate 10 groups\n",
    "for trail in range(10):\n",
    "    x = diffusion.sample(model, 16, y, cfg_scale=3)\n",
    "    x_np = x.cpu().numpy()\n",
    "    output_folder = r\"Specify\\folder\\you\\want\\to\\save\\regenerations\"\n",
    "    os.makedirs(output_folder, exist_ok=True)\n",
    "    \n",
    "    for i in range(16):\n",
    "        image = x_np[i]\n",
    "        image = np.transpose(image, (1, 2, 0))\n",
    "        pil_image = Image.fromarray(np.uint8(image))\n",
    "        image_path = os.path.join(output_folder, f\"{trail}_{i+1}.png\")\n",
    "        pil_image.save(image_path)"
   ]
  }
 ],
 "metadata": {
  "kernelspec": {
   "display_name": "pytorch",
   "language": "python",
   "name": "python3"
  },
  "language_info": {
   "codemirror_mode": {
    "name": "ipython",
    "version": 3
   },
   "file_extension": ".py",
   "mimetype": "text/x-python",
   "name": "python",
   "nbconvert_exporter": "python",
   "pygments_lexer": "ipython3",
   "version": "3.9.18"
  }
 },
 "nbformat": 4,
 "nbformat_minor": 2
}
